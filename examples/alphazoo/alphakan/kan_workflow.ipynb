{
 "cells": [
  {
   "cell_type": "markdown",
   "id": "096c6260",
   "metadata": {},
   "source": [
    "# Introduction\n",
    "Though users can automatically run the whole Quant research worklfow based on configurations with Qlib.\n",
    "\n",
    "Some advanced users usally would like to carefully customize each component to explore more in Quant.\n",
    "\n",
    "If you just want a simple example of Qlib. [Quick start](https://github.com/microsoft/qlib#quick-start) and [workflow_by_code](https://github.com/microsoft/qlib/blob/main/examples/workflow_by_code.ipynb) may be a better choice for you.\n",
    "\n",
    "If you want to know more details about Quant research, this notebook may be a better place for you to start.\n",
    "\n",
    "We hope this script could be a tutorial for users who are interested in the details of Quant.\n",
    "\n",
    "This notebook tries to demonstrate how can we use Qlib to build components step by step. "
   ]
  },
  {
   "cell_type": "code",
   "execution_count": 1,
   "id": "b96a4196",
   "metadata": {
    "ExecuteTime": {
     "end_time": "2024-05-03T05:30:22.942064600Z",
     "start_time": "2024-05-03T05:30:19.858989200Z"
    }
   },
   "outputs": [],
   "source": [
    "from pprint import pprint\n",
    "from pathlib import Path\n",
    "import pandas as pd\n",
    "from kan import *"
   ]
  },
  {
   "cell_type": "code",
   "execution_count": 2,
   "id": "9e707694",
   "metadata": {
    "ExecuteTime": {
     "end_time": "2024-05-03T05:30:26.135600Z",
     "start_time": "2024-05-03T05:30:26.100100800Z"
    }
   },
   "outputs": [],
   "source": [
    "MARKET = \"csi300\"\n",
    "BENCHMARK = \"SH000300\"\n",
    "EXP_NAME = \"tutorial_exp\""
   ]
  },
  {
   "cell_type": "code",
   "execution_count": 3,
   "id": "42b89646",
   "metadata": {
    "ExecuteTime": {
     "end_time": "2024-05-03T05:31:23.580354100Z",
     "start_time": "2024-05-03T05:31:22.440264700Z"
    }
   },
   "outputs": [
    {
     "name": "stderr",
     "output_type": "stream",
     "text": [
      "[21192:MainThread](2024-05-03 13:31:22,945) INFO - qlib.Initialization - [config.py:417] - default_conf: client.\n",
      "[21192:MainThread](2024-05-03 13:31:23,558) INFO - qlib.Initialization - [__init__.py:74] - qlib successfully initialized based on client settings.\n",
      "[21192:MainThread](2024-05-03 13:31:23,559) INFO - qlib.Initialization - [__init__.py:76] - data_path={'__DEFAULT_FREQ': WindowsPath('D:/qlib_data/qlib_cn')}\n"
     ]
    }
   ],
   "source": [
    "import qlib\n",
    "provider_uri = \"D:\\qlib_data\\qlib_cn\"  # target_dir\n",
    "qlib.init(provider_uri=provider_uri)"
   ]
  },
  {
   "cell_type": "code",
   "execution_count": 84,
   "outputs": [],
   "source": [
    "import datetime \n",
    "\n",
    "dh_handler = {'class': 'DatasetH',\n",
    " 'module_path': 'qlib.data.dataset',\n",
    " 'kwargs': {'handler': {'class': 'Alpha360',\n",
    "   'module_path': 'qlib.contrib.data.handler',\n",
    "   'kwargs': {'start_time': datetime.date(2019, 1, 1),\n",
    "    'end_time': datetime.date(2023, 12, 31),\n",
    "    'fit_start_time': datetime.date(2019, 1, 1),\n",
    "    'fit_end_time': datetime.date(2023, 12, 31),\n",
    "    'instruments': 'csi300',\n",
    "    'infer_processors': [{'class': 'FilterCol',\n",
    "      'kwargs': {'fields_group': 'feature',\n",
    "       'col_list': [\n",
    "        'VWAP0',\n",
    "           'HIGH0',\n",
    "           'OPEN0',\n",
    "           'LOW0',\n",
    "           'CLOSE1',\n",
    "           'VOLUME1',\n",
    "]}},\n",
    "     {'class': 'CSRankNorm', 'kwargs': {'fields_group': 'feature'}},\n",
    "     {'class': 'Fillna',\n",
    "      'kwargs': {'fields_group': 'feature', }}],\n",
    "    'learn_processors': [{'class': 'DropnaLabel'},\n",
    "     {'class': 'CSRankNorm', 'kwargs': {'fields_group': 'label'}}],\n",
    "    'label': ['Ref($close, -5) / Ref($close, -1) - 1']}},\n",
    "  'segments': {'train': [datetime.date(2019, 1, 1),\n",
    "    datetime.date(2019, 12, 31)],\n",
    "   'valid': [datetime.date(2020, 1, 1), datetime.date(2020, 12, 31)],\n",
    "   'test': [datetime.date(2021, 1, 1), datetime.date(2023, 3, 1)]},}}"
   ],
   "metadata": {
    "collapsed": false,
    "ExecuteTime": {
     "end_time": "2024-05-03T07:34:21.148014500Z",
     "start_time": "2024-05-03T07:34:21.121001900Z"
    }
   },
   "id": "5491208e9138e3ba"
  },
  {
   "cell_type": "code",
   "execution_count": 85,
   "id": "17077f0c",
   "metadata": {
    "ExecuteTime": {
     "end_time": "2024-05-03T07:34:22.864772200Z",
     "start_time": "2024-05-03T07:34:22.842272600Z"
    }
   },
   "outputs": [],
   "source": [
    "from qlib.utils import init_instance_by_config"
   ]
  },
  {
   "cell_type": "code",
   "execution_count": 86,
   "id": "6a20d9b2",
   "metadata": {
    "ExecuteTime": {
     "end_time": "2024-05-03T07:36:12.042596900Z",
     "start_time": "2024-05-03T07:34:23.529561900Z"
    }
   },
   "outputs": [
    {
     "name": "stderr",
     "output_type": "stream",
     "text": [
      "[21192:MainThread](2024-05-03 15:36:11,399) INFO - qlib.timer - [log.py:127] - Time cost: 107.870s | Loading data Done\n",
      "[21192:MainThread](2024-05-03 15:36:11,603) INFO - qlib.timer - [log.py:127] - Time cost: 0.004s | FilterCol Done\n",
      "D:\\work\\qlib_main\\quant-ml-qlib\\qlib\\data\\dataset\\processor.py:363: SettingWithCopyWarning: \n",
      "A value is trying to be set on a copy of a slice from a DataFrame.\n",
      "Try using .loc[row_indexer,col_indexer] = value instead\n",
      "\n",
      "See the caveats in the documentation: https://pandas.pydata.org/pandas-docs/stable/user_guide/indexing.html#returning-a-view-versus-a-copy\n",
      "  df[cols] = t\n",
      "[21192:MainThread](2024-05-03 15:36:11,930) INFO - qlib.timer - [log.py:127] - Time cost: 0.326s | CSRankNorm Done\n",
      "[21192:MainThread](2024-05-03 15:36:11,946) INFO - qlib.timer - [log.py:127] - Time cost: 0.015s | Fillna Done\n",
      "[21192:MainThread](2024-05-03 15:36:11,964) INFO - qlib.timer - [log.py:127] - Time cost: 0.005s | DropnaLabel Done\n",
      "[21192:MainThread](2024-05-03 15:36:12,025) INFO - qlib.timer - [log.py:127] - Time cost: 0.059s | CSRankNorm Done\n",
      "[21192:MainThread](2024-05-03 15:36:12,026) INFO - qlib.timer - [log.py:127] - Time cost: 0.626s | fit & process data Done\n",
      "[21192:MainThread](2024-05-03 15:36:12,027) INFO - qlib.timer - [log.py:127] - Time cost: 108.499s | Init data Done\n"
     ]
    }
   ],
   "source": [
    "hd = init_instance_by_config(dh_handler['kwargs']['handler'])"
   ]
  },
  {
   "cell_type": "markdown",
   "id": "b170153d",
   "metadata": {},
   "source": [
    "This dataset has the same structure as the simple one with 1 column  we created just now."
   ]
  },
  {
   "cell_type": "code",
   "execution_count": 87,
   "id": "735758e5",
   "metadata": {
    "ExecuteTime": {
     "end_time": "2024-05-03T07:37:33.509950800Z",
     "start_time": "2024-05-03T07:37:33.496446100Z"
    }
   },
   "outputs": [],
   "source": [
    "df = hd.fetch()"
   ]
  },
  {
   "cell_type": "code",
   "execution_count": 88,
   "id": "2b6de50c",
   "metadata": {
    "ExecuteTime": {
     "end_time": "2024-05-03T07:37:34.716044200Z",
     "start_time": "2024-05-03T07:37:34.677032200Z"
    }
   },
   "outputs": [
    {
     "data": {
      "text/plain": "                         CLOSE1     OPEN0     HIGH0      LOW0     VWAP0  \\\ndatetime   instrument                                                     \n2019-01-02 SH600000    0.088394 -0.707153 -0.883942 -0.745036 -1.136496   \n           SH600009   -0.214672 -0.669270 -1.224891 -0.858686 -0.972336   \n           SH600010   -0.227299 -0.340949 -0.441971  0.328321 -0.025255   \n           SH600015    0.164161  0.075766 -0.631387 -0.340949 -0.631387   \n           SH600016    0.366204  0.063139 -0.416715  0.164161 -0.770292   \n...                         ...       ...       ...       ...       ...   \n2023-12-29 SZ300896    1.693060  1.668434  1.569929  0.560249 -0.905018   \n           SZ300919   -0.720320 -0.831139 -0.905018 -0.806512 -1.631495   \n           SZ300957    1.175907  0.215480  0.794199  0.387865 -0.190854   \n           SZ300979   -0.671068 -1.040463  0.634128 -0.744947  0.892705   \n           SZ300999    0.621815  0.634128 -0.437117  0.794199  0.646441   \n\n                        VOLUME1  Ref($close, -5) / Ref($close, -1) - 1  \ndatetime   instrument                                                   \n2019-01-02 SH600000    0.277810                               0.018353  \n           SH600009    1.452190                               0.019876  \n           SH600010    0.896569                               0.012966  \n           SH600015    0.391460                               0.013690  \n           SH600016    1.275401                               0.015896  \n...                         ...                                    ...  \n2023-12-29 SZ300896    1.643808                              -0.010070  \n           SZ300919    0.868078                              -0.044512  \n           SZ300957    1.680747                              -0.034938  \n           SZ300979   -0.535623                              -0.027072  \n           SZ300999    0.449431                              -0.053003  \n\n[338677 rows x 7 columns]",
      "text/html": "<div>\n<style scoped>\n    .dataframe tbody tr th:only-of-type {\n        vertical-align: middle;\n    }\n\n    .dataframe tbody tr th {\n        vertical-align: top;\n    }\n\n    .dataframe thead th {\n        text-align: right;\n    }\n</style>\n<table border=\"1\" class=\"dataframe\">\n  <thead>\n    <tr style=\"text-align: right;\">\n      <th></th>\n      <th></th>\n      <th>CLOSE1</th>\n      <th>OPEN0</th>\n      <th>HIGH0</th>\n      <th>LOW0</th>\n      <th>VWAP0</th>\n      <th>VOLUME1</th>\n      <th>Ref($close, -5) / Ref($close, -1) - 1</th>\n    </tr>\n    <tr>\n      <th>datetime</th>\n      <th>instrument</th>\n      <th></th>\n      <th></th>\n      <th></th>\n      <th></th>\n      <th></th>\n      <th></th>\n      <th></th>\n    </tr>\n  </thead>\n  <tbody>\n    <tr>\n      <th rowspan=\"5\" valign=\"top\">2019-01-02</th>\n      <th>SH600000</th>\n      <td>0.088394</td>\n      <td>-0.707153</td>\n      <td>-0.883942</td>\n      <td>-0.745036</td>\n      <td>-1.136496</td>\n      <td>0.277810</td>\n      <td>0.018353</td>\n    </tr>\n    <tr>\n      <th>SH600009</th>\n      <td>-0.214672</td>\n      <td>-0.669270</td>\n      <td>-1.224891</td>\n      <td>-0.858686</td>\n      <td>-0.972336</td>\n      <td>1.452190</td>\n      <td>0.019876</td>\n    </tr>\n    <tr>\n      <th>SH600010</th>\n      <td>-0.227299</td>\n      <td>-0.340949</td>\n      <td>-0.441971</td>\n      <td>0.328321</td>\n      <td>-0.025255</td>\n      <td>0.896569</td>\n      <td>0.012966</td>\n    </tr>\n    <tr>\n      <th>SH600015</th>\n      <td>0.164161</td>\n      <td>0.075766</td>\n      <td>-0.631387</td>\n      <td>-0.340949</td>\n      <td>-0.631387</td>\n      <td>0.391460</td>\n      <td>0.013690</td>\n    </tr>\n    <tr>\n      <th>SH600016</th>\n      <td>0.366204</td>\n      <td>0.063139</td>\n      <td>-0.416715</td>\n      <td>0.164161</td>\n      <td>-0.770292</td>\n      <td>1.275401</td>\n      <td>0.015896</td>\n    </tr>\n    <tr>\n      <th>...</th>\n      <th>...</th>\n      <td>...</td>\n      <td>...</td>\n      <td>...</td>\n      <td>...</td>\n      <td>...</td>\n      <td>...</td>\n      <td>...</td>\n    </tr>\n    <tr>\n      <th rowspan=\"5\" valign=\"top\">2023-12-29</th>\n      <th>SZ300896</th>\n      <td>1.693060</td>\n      <td>1.668434</td>\n      <td>1.569929</td>\n      <td>0.560249</td>\n      <td>-0.905018</td>\n      <td>1.643808</td>\n      <td>-0.010070</td>\n    </tr>\n    <tr>\n      <th>SZ300919</th>\n      <td>-0.720320</td>\n      <td>-0.831139</td>\n      <td>-0.905018</td>\n      <td>-0.806512</td>\n      <td>-1.631495</td>\n      <td>0.868078</td>\n      <td>-0.044512</td>\n    </tr>\n    <tr>\n      <th>SZ300957</th>\n      <td>1.175907</td>\n      <td>0.215480</td>\n      <td>0.794199</td>\n      <td>0.387865</td>\n      <td>-0.190854</td>\n      <td>1.680747</td>\n      <td>-0.034938</td>\n    </tr>\n    <tr>\n      <th>SZ300979</th>\n      <td>-0.671068</td>\n      <td>-1.040463</td>\n      <td>0.634128</td>\n      <td>-0.744947</td>\n      <td>0.892705</td>\n      <td>-0.535623</td>\n      <td>-0.027072</td>\n    </tr>\n    <tr>\n      <th>SZ300999</th>\n      <td>0.621815</td>\n      <td>0.634128</td>\n      <td>-0.437117</td>\n      <td>0.794199</td>\n      <td>0.646441</td>\n      <td>0.449431</td>\n      <td>-0.053003</td>\n    </tr>\n  </tbody>\n</table>\n<p>338677 rows × 7 columns</p>\n</div>"
     },
     "execution_count": 88,
     "metadata": {},
     "output_type": "execute_result"
    }
   ],
   "source": [
    "df"
   ]
  },
  {
   "cell_type": "code",
   "execution_count": 89,
   "id": "cb1bc4fb",
   "metadata": {
    "ExecuteTime": {
     "end_time": "2024-05-03T07:37:36.015414800Z",
     "start_time": "2024-05-03T07:37:35.995905400Z"
    }
   },
   "outputs": [
    {
     "data": {
      "text/plain": "<qlib.data.dataset.loader.QlibDataLoader at 0x1b5144ae520>"
     },
     "execution_count": 89,
     "metadata": {},
     "output_type": "execute_result"
    }
   ],
   "source": [
    "hd.data_loader"
   ]
  },
  {
   "cell_type": "markdown",
   "id": "f5a15747",
   "metadata": {},
   "source": [
    "#### some details\n",
    "\n",
    "The training data may not be the same as the test data.\n",
    "\n",
    "e.g.\n",
    "- the training dataset and test dataset use a different fitlering rules,  data processing"
   ]
  },
  {
   "cell_type": "code",
   "execution_count": 91,
   "id": "cf2defa0",
   "metadata": {
    "ExecuteTime": {
     "end_time": "2024-05-03T07:38:05.952868900Z",
     "start_time": "2024-05-03T07:38:05.923358300Z"
    }
   },
   "outputs": [
    {
     "data": {
      "text/plain": "[<qlib.data.dataset.processor.DropnaLabel at 0x1b5144aeb50>,\n <qlib.data.dataset.processor.CSRankNorm at 0x1b5144ae9a0>]"
     },
     "execution_count": 91,
     "metadata": {},
     "output_type": "execute_result"
    }
   ],
   "source": [
    "hd.learn_processors"
   ]
  },
  {
   "cell_type": "code",
   "execution_count": 92,
   "id": "ef55a881",
   "metadata": {
    "ExecuteTime": {
     "end_time": "2024-05-03T07:38:06.766571500Z",
     "start_time": "2024-05-03T07:38:06.736566500Z"
    }
   },
   "outputs": [
    {
     "data": {
      "text/plain": "[<qlib.data.dataset.processor.FilterCol at 0x1b5144aeca0>,\n <qlib.data.dataset.processor.CSRankNorm at 0x1b5144ae7f0>,\n <qlib.data.dataset.processor.Fillna at 0x1b5144aebb0>]"
     },
     "execution_count": 92,
     "metadata": {},
     "output_type": "execute_result"
    }
   ],
   "source": [
    "hd.infer_processors"
   ]
  },
  {
   "cell_type": "code",
   "execution_count": 93,
   "id": "7af3b077",
   "metadata": {
    "ExecuteTime": {
     "end_time": "2024-05-03T07:38:08.118010400Z",
     "start_time": "2024-05-03T07:38:08.096511300Z"
    }
   },
   "outputs": [
    {
     "data": {
      "text/plain": "'append'"
     },
     "execution_count": 93,
     "metadata": {},
     "output_type": "execute_result"
    }
   ],
   "source": [
    "hd.process_type  # appending type"
   ]
  },
  {
   "cell_type": "code",
   "execution_count": 94,
   "id": "ec2cfb12",
   "metadata": {
    "ExecuteTime": {
     "end_time": "2024-05-03T07:38:16.483465100Z",
     "start_time": "2024-05-03T07:38:16.465968800Z"
    }
   },
   "outputs": [],
   "source": [
    "dataset_conf = {\n",
    "    \"class\": \"DatasetH\",\n",
    "    \"module_path\": \"qlib.data.dataset\",\n",
    "    \"kwargs\": {\n",
    "        \"handler\": hd,\n",
    "        \"segments\": {\n",
    "            \"train\": (\"2019-01-01\", \"2019-12-31\"),\n",
    "            \"valid\": (\"2020-01-01\", \"2020-12-31\"),\n",
    "            \"test\": (\"2021-01-01\", \"2023-12-31\"),\n",
    "        },\n",
    "    },\n",
    "}"
   ]
  },
  {
   "cell_type": "code",
   "execution_count": 95,
   "id": "aca33c3c",
   "metadata": {
    "ExecuteTime": {
     "end_time": "2024-05-03T07:38:20.268869Z",
     "start_time": "2024-05-03T07:38:20.067842100Z"
    }
   },
   "outputs": [],
   "source": [
    "dataset = init_instance_by_config(dataset_conf)"
   ]
  },
  {
   "cell_type": "code",
   "execution_count": 96,
   "outputs": [],
   "source": [
    "GPU=0\n",
    "device = torch.device(\"cuda:%d\" % (GPU) if torch.cuda.is_available() and GPU >= 0 else \"cpu\")\n",
    "device = 'cpu'"
   ],
   "metadata": {
    "collapsed": false,
    "ExecuteTime": {
     "end_time": "2024-05-03T07:38:22.520524Z",
     "start_time": "2024-05-03T07:38:22.505522700Z"
    }
   },
   "id": "a9ab77ea28b667be"
  },
  {
   "cell_type": "code",
   "execution_count": 97,
   "outputs": [
    {
     "data": {
      "text/plain": "'cpu'"
     },
     "execution_count": 97,
     "metadata": {},
     "output_type": "execute_result"
    }
   ],
   "source": [
    "device"
   ],
   "metadata": {
    "collapsed": false,
    "ExecuteTime": {
     "end_time": "2024-05-03T07:38:23.559349Z",
     "start_time": "2024-05-03T07:38:23.538836900Z"
    }
   },
   "id": "a4319a637aa40542"
  },
  {
   "cell_type": "code",
   "execution_count": 98,
   "outputs": [],
   "source": [
    "kan_dataset = {}\n",
    "kan_dataset['train_input'] = torch.Tensor(dataset.prepare('train', col_set='feature').values).to(device)\n",
    "kan_dataset['train_label'] = torch.Tensor(dataset.prepare('train', col_set='label').values).to(device)\n",
    "\n",
    "kan_dataset['test_input'] = torch.Tensor(dataset.prepare('valid', col_set='feature').values).to(device)\n",
    "kan_dataset['test_label'] = torch.Tensor(dataset.prepare('valid', col_set='label').values).to(device)"
   ],
   "metadata": {
    "collapsed": false,
    "ExecuteTime": {
     "end_time": "2024-05-03T07:38:24.855359600Z",
     "start_time": "2024-05-03T07:38:24.805326Z"
    }
   },
   "id": "5f9fa24589e3da6f"
  },
  {
   "cell_type": "code",
   "execution_count": 99,
   "outputs": [
    {
     "data": {
      "text/plain": "                         CLOSE1     OPEN0     HIGH0      LOW0     VWAP0  \\\ndatetime   instrument                                                     \n2019-01-02 SH600000    0.088394 -0.707153 -0.883942 -0.745036 -1.136496   \n           SH600009   -0.214672 -0.669270 -1.224891 -0.858686 -0.972336   \n           SH600010   -0.227299 -0.340949 -0.441971  0.328321 -0.025255   \n           SH600015    0.164161  0.075766 -0.631387 -0.340949 -0.631387   \n           SH600016    0.366204  0.063139 -0.416715  0.164161 -0.770292   \n...                         ...       ...       ...       ...       ...   \n2019-12-31 SZ300347   -1.466739 -1.291232  0.112826 -1.115725  0.551594   \n           SZ300408    1.579565  1.529420  1.579565  0.764710  1.504348   \n           SZ300413   -0.438768 -0.413696  0.488913 -0.927681 -1.027971   \n           SZ300433    0.137899  0.401159  0.476377 -0.814855 -0.338478   \n           SZ300498   -0.702029 -0.789783  0.012536 -0.376087  0.990362   \n\n                        VOLUME1  \ndatetime   instrument            \n2019-01-02 SH600000    0.277810  \n           SH600009    1.452190  \n           SH600010    0.896569  \n           SH600015    0.391460  \n           SH600016    1.275401  \n...                         ...  \n2019-12-31 SZ300347   -1.378986  \n           SZ300408    1.679855  \n           SZ300413    1.078116  \n           SZ300433    0.764710  \n           SZ300498   -0.275797  \n\n[67004 rows x 6 columns]",
      "text/html": "<div>\n<style scoped>\n    .dataframe tbody tr th:only-of-type {\n        vertical-align: middle;\n    }\n\n    .dataframe tbody tr th {\n        vertical-align: top;\n    }\n\n    .dataframe thead th {\n        text-align: right;\n    }\n</style>\n<table border=\"1\" class=\"dataframe\">\n  <thead>\n    <tr style=\"text-align: right;\">\n      <th></th>\n      <th></th>\n      <th>CLOSE1</th>\n      <th>OPEN0</th>\n      <th>HIGH0</th>\n      <th>LOW0</th>\n      <th>VWAP0</th>\n      <th>VOLUME1</th>\n    </tr>\n    <tr>\n      <th>datetime</th>\n      <th>instrument</th>\n      <th></th>\n      <th></th>\n      <th></th>\n      <th></th>\n      <th></th>\n      <th></th>\n    </tr>\n  </thead>\n  <tbody>\n    <tr>\n      <th rowspan=\"5\" valign=\"top\">2019-01-02</th>\n      <th>SH600000</th>\n      <td>0.088394</td>\n      <td>-0.707153</td>\n      <td>-0.883942</td>\n      <td>-0.745036</td>\n      <td>-1.136496</td>\n      <td>0.277810</td>\n    </tr>\n    <tr>\n      <th>SH600009</th>\n      <td>-0.214672</td>\n      <td>-0.669270</td>\n      <td>-1.224891</td>\n      <td>-0.858686</td>\n      <td>-0.972336</td>\n      <td>1.452190</td>\n    </tr>\n    <tr>\n      <th>SH600010</th>\n      <td>-0.227299</td>\n      <td>-0.340949</td>\n      <td>-0.441971</td>\n      <td>0.328321</td>\n      <td>-0.025255</td>\n      <td>0.896569</td>\n    </tr>\n    <tr>\n      <th>SH600015</th>\n      <td>0.164161</td>\n      <td>0.075766</td>\n      <td>-0.631387</td>\n      <td>-0.340949</td>\n      <td>-0.631387</td>\n      <td>0.391460</td>\n    </tr>\n    <tr>\n      <th>SH600016</th>\n      <td>0.366204</td>\n      <td>0.063139</td>\n      <td>-0.416715</td>\n      <td>0.164161</td>\n      <td>-0.770292</td>\n      <td>1.275401</td>\n    </tr>\n    <tr>\n      <th>...</th>\n      <th>...</th>\n      <td>...</td>\n      <td>...</td>\n      <td>...</td>\n      <td>...</td>\n      <td>...</td>\n      <td>...</td>\n    </tr>\n    <tr>\n      <th rowspan=\"5\" valign=\"top\">2019-12-31</th>\n      <th>SZ300347</th>\n      <td>-1.466739</td>\n      <td>-1.291232</td>\n      <td>0.112826</td>\n      <td>-1.115725</td>\n      <td>0.551594</td>\n      <td>-1.378986</td>\n    </tr>\n    <tr>\n      <th>SZ300408</th>\n      <td>1.579565</td>\n      <td>1.529420</td>\n      <td>1.579565</td>\n      <td>0.764710</td>\n      <td>1.504348</td>\n      <td>1.679855</td>\n    </tr>\n    <tr>\n      <th>SZ300413</th>\n      <td>-0.438768</td>\n      <td>-0.413696</td>\n      <td>0.488913</td>\n      <td>-0.927681</td>\n      <td>-1.027971</td>\n      <td>1.078116</td>\n    </tr>\n    <tr>\n      <th>SZ300433</th>\n      <td>0.137899</td>\n      <td>0.401159</td>\n      <td>0.476377</td>\n      <td>-0.814855</td>\n      <td>-0.338478</td>\n      <td>0.764710</td>\n    </tr>\n    <tr>\n      <th>SZ300498</th>\n      <td>-0.702029</td>\n      <td>-0.789783</td>\n      <td>0.012536</td>\n      <td>-0.376087</td>\n      <td>0.990362</td>\n      <td>-0.275797</td>\n    </tr>\n  </tbody>\n</table>\n<p>67004 rows × 6 columns</p>\n</div>"
     },
     "execution_count": 99,
     "metadata": {},
     "output_type": "execute_result"
    }
   ],
   "source": [
    "dataset.prepare('train', col_set='feature')"
   ],
   "metadata": {
    "collapsed": false,
    "ExecuteTime": {
     "end_time": "2024-05-03T07:38:27.788114200Z",
     "start_time": "2024-05-03T07:38:27.747600900Z"
    }
   },
   "id": "6dd6ddd9a4bd33c0"
  },
  {
   "cell_type": "code",
   "execution_count": 100,
   "outputs": [
    {
     "data": {
      "text/plain": "torch.Size([67004, 6])"
     },
     "execution_count": 100,
     "metadata": {},
     "output_type": "execute_result"
    }
   ],
   "source": [
    "kan_dataset['train_input'].shape"
   ],
   "metadata": {
    "collapsed": false,
    "ExecuteTime": {
     "end_time": "2024-05-03T07:38:29.965994Z",
     "start_time": "2024-05-03T07:38:29.944489600Z"
    }
   },
   "id": "5d1a0b9a1c0aa755"
  },
  {
   "cell_type": "code",
   "execution_count": 106,
   "outputs": [
    {
     "name": "stderr",
     "output_type": "stream",
     "text": [
      "train loss: 6.42e-02 | test loss: 7.12e-02 | reg: 7.97e+01 : 100%|████| 5/5 [03:29<00:00, 41.91s/it]\n"
     ]
    }
   ],
   "source": [
    "model = KAN(width=[6,20,1], grid=5, k=3, seed=0, device=device)\n",
    "model.train(kan_dataset, opt=\"LBFGS\", steps=5, lamb=0.01, lamb_entropy=10., device=device);"
   ],
   "metadata": {
    "collapsed": false,
    "ExecuteTime": {
     "end_time": "2024-05-03T07:52:07.612213Z",
     "start_time": "2024-05-03T07:48:38.066308400Z"
    }
   },
   "id": "be7df2fd23fdc06d"
  },
  {
   "cell_type": "code",
   "execution_count": 107,
   "outputs": [
    {
     "data": {
      "text/plain": "<Figure size 500x400 with 141 Axes>",
      "image/png": "[encoded data removed]"
     },
     "metadata": {},
     "output_type": "display_data"
    }
   ],
   "source": [
    "model.plot()"
   ],
   "metadata": {
    "collapsed": false,
    "ExecuteTime": {
     "end_time": "2024-05-03T07:52:43.558063500Z",
     "start_time": "2024-05-03T07:52:29.882537600Z"
    }
   },
   "id": "32d4d8a52d2f3f5e"
  },
  {
   "cell_type": "code",
   "execution_count": 109,
   "outputs": [
    {
     "name": "stdout",
     "output_type": "stream",
     "text": [
      "make sure all activations need to be converted to symbolic formulas first!\n"
     ]
    },
    {
     "ename": "TypeError",
     "evalue": "cannot unpack non-iterable NoneType object",
     "output_type": "error",
     "traceback": [
      "\u001B[1;31m---------------------------------------------------------------------------\u001B[0m",
      "\u001B[1;31mTypeError\u001B[0m                                 Traceback (most recent call last)",
      "Cell \u001B[1;32mIn[109], line 1\u001B[0m\n\u001B[1;32m----> 1\u001B[0m formula, variables \u001B[38;5;241m=\u001B[39m model\u001B[38;5;241m.\u001B[39msymbolic_formula()\n\u001B[0;32m      2\u001B[0m \u001B[38;5;66;03m# formula[0]\u001B[39;00m\n",
      "\u001B[1;31mTypeError\u001B[0m: cannot unpack non-iterable NoneType object"
     ]
    }
   ],
   "source": [
    "formula, variables = model.symbolic_formula()\n",
    "# formula[0]"
   ],
   "metadata": {
    "collapsed": false,
    "ExecuteTime": {
     "end_time": "2024-05-03T07:53:01.585792600Z",
     "start_time": "2024-05-03T07:53:01.543274500Z"
    }
   },
   "id": "21cda5fa00d9cd4a"
  },
  {
   "cell_type": "code",
   "execution_count": 121,
   "outputs": [],
   "source": [
    "test_x = torch.Tensor(dataset.prepare('test', col_set='feature').values).to(device)"
   ],
   "metadata": {
    "collapsed": false,
    "ExecuteTime": {
     "end_time": "2024-05-03T08:02:34.701852400Z",
     "start_time": "2024-05-03T08:02:34.660858200Z"
    }
   },
   "id": "afe69babf906c809"
  },
  {
   "cell_type": "code",
   "execution_count": 124,
   "outputs": [
    {
     "ename": "TypeError",
     "evalue": "'module' object is not callable",
     "output_type": "error",
     "traceback": [
      "\u001B[1;31m---------------------------------------------------------------------------\u001B[0m",
      "\u001B[1;31mTypeError\u001B[0m                                 Traceback (most recent call last)",
      "Cell \u001B[1;32mIn[124], line 1\u001B[0m\n\u001B[1;32m----> 1\u001B[0m model_prune \u001B[38;5;241m=\u001B[39m \u001B[43mcopy\u001B[49m\u001B[43m(\u001B[49m\u001B[43mmodel\u001B[49m\u001B[43m)\u001B[49m\n",
      "\u001B[1;31mTypeError\u001B[0m: 'module' object is not callable"
     ]
    }
   ],
   "source": [
    "model_prune = copy(model)"
   ],
   "metadata": {
    "collapsed": false,
    "ExecuteTime": {
     "end_time": "2024-05-03T08:04:11.651486700Z",
     "start_time": "2024-05-03T08:04:11.622987400Z"
    }
   },
   "id": "b2eda02008811ee8"
  },
  {
   "cell_type": "code",
   "execution_count": 127,
   "outputs": [],
   "source": [
    "pred_y = model_prune(test_x)"
   ],
   "metadata": {
    "collapsed": false,
    "ExecuteTime": {
     "end_time": "2024-05-03T08:05:18.744821500Z",
     "start_time": "2024-05-03T08:05:13.001443900Z"
    }
   },
   "id": "725e36566a768ba7"
  },
  {
   "cell_type": "code",
   "execution_count": 146,
   "outputs": [],
   "source": [
    "test_y = dataset.prepare('test', col_set='label')"
   ],
   "metadata": {
    "collapsed": false,
    "ExecuteTime": {
     "end_time": "2024-05-03T08:28:47.075648600Z",
     "start_time": "2024-05-03T08:28:47.034136200Z"
    }
   },
   "id": "5da3e2fd0d05e423"
  },
  {
   "cell_type": "code",
   "execution_count": null,
   "outputs": [],
   "source": [],
   "metadata": {
    "collapsed": false
   },
   "id": "1c809ca0353413f5"
  },
  {
   "cell_type": "code",
   "execution_count": 150,
   "outputs": [],
   "source": [
    "test_y_2021 = test_y[test_y.index.get_level_values(0) < '2021-12-31']"
   ],
   "metadata": {
    "collapsed": false,
    "ExecuteTime": {
     "end_time": "2024-05-03T08:29:40.361219Z",
     "start_time": "2024-05-03T08:29:40.318214100Z"
    }
   },
   "id": "c5cf68c7c67b6ee7"
  },
  {
   "cell_type": "code",
   "execution_count": null,
   "outputs": [],
   "source": [],
   "metadata": {
    "collapsed": false
   },
   "id": "600579b21f25be4e"
  },
  {
   "cell_type": "code",
   "execution_count": 153,
   "outputs": [
    {
     "name": "stderr",
     "output_type": "stream",
     "text": [
      "C:\\Users\\Administrator\\AppData\\Local\\Temp\\ipykernel_21192\\1142016167.py:1: SettingWithCopyWarning: \n",
      "A value is trying to be set on a copy of a slice from a DataFrame.\n",
      "Try using .loc[row_indexer,col_indexer] = value instead\n",
      "\n",
      "See the caveats in the documentation: https://pandas.pydata.org/pandas-docs/stable/user_guide/indexing.html#returning-a-view-versus-a-copy\n",
      "  test_y_2021['predict'] = pred_y.detach().numpy()[:len(test_y_2021)]\n"
     ]
    }
   ],
   "source": [
    "test_y_2021['predict'] = pred_y.detach().numpy()[:len(test_y_2021)]"
   ],
   "metadata": {
    "collapsed": false,
    "ExecuteTime": {
     "end_time": "2024-05-03T08:30:14.997050400Z",
     "start_time": "2024-05-03T08:30:14.981049800Z"
    }
   },
   "id": "1bb690daa54710a5"
  },
  {
   "cell_type": "code",
   "execution_count": 154,
   "outputs": [],
   "source": [
    "ics = test_y_2021.groupby(level=0).apply(lambda x : x.corr(method='spearman').iloc[0,1])"
   ],
   "metadata": {
    "collapsed": false,
    "ExecuteTime": {
     "end_time": "2024-05-03T08:30:21.514781100Z",
     "start_time": "2024-05-03T08:30:21.451772Z"
    }
   },
   "id": "194396772b19ed9c"
  },
  {
   "cell_type": "code",
   "execution_count": 155,
   "outputs": [
    {
     "data": {
      "text/plain": "<Axes: xlabel='datetime'>"
     },
     "execution_count": 155,
     "metadata": {},
     "output_type": "execute_result"
    },
    {
     "data": {
      "text/plain": "<Figure size 640x480 with 1 Axes>",
      "image/png": "[encoded data removed]"
     },
     "metadata": {},
     "output_type": "display_data"
    }
   ],
   "source": [
    "ics.plot()"
   ],
   "metadata": {
    "collapsed": false,
    "ExecuteTime": {
     "end_time": "2024-05-03T08:30:22.731577300Z",
     "start_time": "2024-05-03T08:30:22.605882800Z"
    }
   },
   "id": "752a2b85ed392799"
  },
  {
   "cell_type": "code",
   "execution_count": 156,
   "outputs": [
    {
     "data": {
      "text/plain": "0.02321433303258352"
     },
     "execution_count": 156,
     "metadata": {},
     "output_type": "execute_result"
    }
   ],
   "source": [
    "ics.mean()"
   ],
   "metadata": {
    "collapsed": false,
    "ExecuteTime": {
     "end_time": "2024-05-03T08:30:30.203354Z",
     "start_time": "2024-05-03T08:30:30.179356500Z"
    }
   },
   "id": "a5f9f1eb748f1ffc"
  },
  {
   "cell_type": "markdown",
   "source": [
    "# add symbolic function"
   ],
   "metadata": {
    "collapsed": false
   },
   "id": "e0d53b1247c112a7"
  },
  {
   "cell_type": "code",
   "execution_count": 142,
   "outputs": [
    {
     "data": {
      "text/plain": "dict_keys(['x', 'x^2', 'x^3', 'x^4', '1/x', '1/x^2', '1/x^3', '1/x^4', 'sqrt', '1/sqrt(x)', 'exp', 'log', 'abs', 'sin', 'tan', 'tanh', 'sigmoid', 'sgn', 'arcsin', 'arctan', 'arctanh', '0', 'gaussian', 'cosh'])"
     },
     "execution_count": 142,
     "metadata": {},
     "output_type": "execute_result"
    }
   ],
   "source": [
    "SYMBOLIC_LIB.keys()"
   ],
   "metadata": {
    "collapsed": false,
    "ExecuteTime": {
     "end_time": "2024-05-03T08:10:29.169115700Z",
     "start_time": "2024-05-03T08:10:29.153116700Z"
    }
   },
   "id": "b9ac16ecd9dd0058"
  },
  {
   "cell_type": "code",
   "execution_count": 143,
   "outputs": [],
   "source": [
    "add_symbolic('J0', torch.special.bessel_j0)"
   ],
   "metadata": {
    "collapsed": false,
    "ExecuteTime": {
     "end_time": "2024-05-03T08:17:25.751804300Z",
     "start_time": "2024-05-03T08:17:25.731791400Z"
    }
   },
   "id": "e9b119979f15f1ae"
  },
  {
   "cell_type": "code",
   "execution_count": 144,
   "outputs": [
    {
     "name": "stdout",
     "output_type": "stream",
     "text": [
      "function , r2\n",
      "gaussian , 0.9734076857566833\n",
      "arctan , 0.9707499742507935\n",
      "abs , 0.9704029560089111\n",
      "sigmoid , 0.9691033363342285\n",
      "tanh , 0.9691032767295837\n"
     ]
    },
    {
     "data": {
      "text/plain": "('gaussian',\n (<function kan.utils.<lambda>(x)>, <function kan.utils.<lambda>(x)>),\n 0.9734076857566833)"
     },
     "execution_count": 144,
     "metadata": {},
     "output_type": "execute_result"
    }
   ],
   "source": [
    "model.suggest_symbolic(0,0,0)"
   ],
   "metadata": {
    "collapsed": false,
    "ExecuteTime": {
     "end_time": "2024-05-03T08:21:49.420296700Z",
     "start_time": "2024-05-03T08:17:27.049813400Z"
    }
   },
   "id": "755fbe44aa1bd010"
  },
  {
   "cell_type": "code",
   "execution_count": null,
   "outputs": [],
   "source": [],
   "metadata": {
    "collapsed": false
   },
   "id": "9e020b42b1a9f86a"
  }
 ],
 "metadata": {
  "jupytext": {
   "encoding": "# -*- coding: utf-8 -*-",
   "formats": "ipynb,py:percent"
  },
  "kernelspec": {
   "display_name": "Python 3 (ipykernel)",
   "language": "python",
   "name": "python3"
  },
  "language_info": {
   "codemirror_mode": {
    "name": "ipython",
    "version": 3
   },
   "file_extension": ".py",
   "mimetype": "text/x-python",
   "name": "python",
   "nbconvert_exporter": "python",
   "pygments_lexer": "ipython3"
  },
  "toc": {
   "base_numbering": 1,
   "nav_menu": {},
   "number_sections": true,
   "sideBar": true,
   "skip_h1_title": false,
   "title_cell": "Table of Contents",
   "title_sidebar": "Contents",
   "toc_cell": false,
   "toc_position": {},
   "toc_section_display": true,
   "toc_window_display": true
  }
 },
 "nbformat": 4,
 "nbformat_minor": 5
}
